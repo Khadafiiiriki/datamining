{
  "nbformat": 4,
  "nbformat_minor": 0,
  "metadata": {
    "colab": {
      "name": "Preprocessing.ipynb",
      "provenance": []
    },
    "kernelspec": {
      "name": "python3",
      "display_name": "Python 3"
    },
    "language_info": {
      "name": "python"
    }
  },
  "cells": [
    {
      "cell_type": "code",
      "execution_count": 5,
      "metadata": {
        "id": "8PSWaT2O_5bL"
      },
      "outputs": [],
      "source": [
        "import numpy as np\n",
        "import matplotlib.pyplot as plt\n",
        "import pandas as pd\n"
      ]
    },
    {
      "cell_type": "code",
      "source": [
        "dataset = pd.read_csv('data.csv')\n",
        "x = dataset.iloc[:, :-1].values\n",
        "y = dataset.iloc[:, -1].values"
      ],
      "metadata": {
        "id": "D9tKx6v8AMSF"
      },
      "execution_count": 6,
      "outputs": []
    },
    {
      "cell_type": "code",
      "source": [
        "print(x)"
      ],
      "metadata": {
        "colab": {
          "base_uri": "https://localhost:8080/"
        },
        "id": "0gBcnB5mAdVp",
        "outputId": "4a8a943b-8b51-490f-f29d-5059e79eae6f"
      },
      "execution_count": 7,
      "outputs": [
        {
          "output_type": "stream",
          "name": "stdout",
          "text": [
            "[[1 'Netherlands' 183.78 170.36 6.03]\n",
            " [2 'Montenegro' 183.3 169.96 6.01]\n",
            " [3 'Estonia' 182.79 168.66 6.0]\n",
            " [4 'Bosnia and Herzegovina' 182.47 167.47 5.99]\n",
            " [5 'Iceland' 182.1 168.91 5.97]\n",
            " [6 'Denmark' 181.89 169.47 5.97]\n",
            " [7 'Czech Republic' 181.19 167.96 5.94]\n",
            " [8 'Latvia' 181.17 168.81 5.94]\n",
            " [9 'Slovakia' 181.02 167.12 5.94]\n",
            " [10 nan 180.98 167.2 5.94]\n",
            " [11 'Ukraine' 180.98 166.62 5.94]\n",
            " [12 'Croatia' 180.76 166.8 5.93]\n",
            " [13 'Serbia' 180.74 168.29 5.93]\n",
            " [14 'Lithuania' 180.72 167.63 5.93]\n",
            " [15 'Poland' nan 165.78 5.93]]\n"
          ]
        }
      ]
    },
    {
      "cell_type": "code",
      "source": [
        "print(y)"
      ],
      "metadata": {
        "colab": {
          "base_uri": "https://localhost:8080/"
        },
        "id": "TM_2aGccAfMY",
        "outputId": "be731b8f-7e9d-43cb-ffd4-4d8068d227cc"
      },
      "execution_count": 8,
      "outputs": [
        {
          "output_type": "stream",
          "name": "stdout",
          "text": [
            "[5.59 5.58 5.53 5.49 5.54 5.56 5.51 5.54 5.48 5.49 5.47 5.47 5.52 5.5\n",
            " 5.44]\n"
          ]
        }
      ]
    }
  ]
}